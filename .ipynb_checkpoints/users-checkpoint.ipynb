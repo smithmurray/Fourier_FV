{
 "cells": [
  {
   "cell_type": "code",
   "execution_count": null,
   "metadata": {
    "collapsed": true
   },
   "outputs": [],
   "source": [
    "from flask import Flask, Blueprint, render_template,request,session,redirect,url_for\n",
    "from flask_database import db\n",
    "\n",
    "users_file = Blueprint('users_file',__name__,template_folder='templates',static_folder='static')\n",
    "\n",
    "app = Flask(__name__)\n",
    "app.secret_key = ';jadsfjjmLFNDCJGRLsdlCHasFAFFSA'\n",
    "app.jinja_env.add_extension('jinja2.ext.loopcontrols')\n",
    "\n",
    "\n",
    "@users_file.route('/', methods=['GET', 'POST'])\n",
    "def login():\n",
    "    return render_template('index.html')"
   ]
  }
 ],
 "metadata": {
  "kernelspec": {
   "display_name": "Python 3.6",
   "language": "python",
   "name": "python3.6"
  },
  "language_info": {
   "codemirror_mode": {
    "name": "ipython",
    "version": 3
   },
   "file_extension": ".py",
   "mimetype": "text/x-python",
   "name": "python",
   "nbconvert_exporter": "python",
   "pygments_lexer": "ipython3",
   "version": "3.6.0"
  }
 },
 "nbformat": 4,
 "nbformat_minor": 0
}
